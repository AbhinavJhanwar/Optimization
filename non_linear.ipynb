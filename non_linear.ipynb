{
 "cells": [
  {
   "cell_type": "markdown",
   "metadata": {},
   "source": [
    "## Problem Statement\n",
    "A factory produces two products, P1 and P2. The profit per unit is:<br>\n",
    "* P1: $40\n",
    "* P2: $50\n",
    "\n",
    "Machine time available:<br>\n",
    "* Machine A: 100 hours\n",
    "* Machine B: 80 hours\n",
    "* Machine C: 90 hours\n",
    "\n",
    "Time required per unit:\n",
    "* P1- 1 hour on A, 2 hour on B\n",
    "* P2- 2 hour on A, 1 hour on B, 3 hour on C\n",
    "\n",
    "Objective: Maximize profit.\n",
    "\n",
    "Decision variables:\n",
    "* x₁: Units of P1 to produce.\n",
    "* x₂: Units of P2 to produce.\n"
   ]
  },
  {
   "cell_type": "markdown",
   "metadata": {},
   "source": [
    "# Using pyomo"
   ]
  },
  {
   "cell_type": "markdown",
   "metadata": {},
   "source": [
    "1. Linear programming (LP): LP involves optimizing a linear objective function subject to linear equality and inequality constraints. It's widely used for resource allocation, scheduling, and financial planning problems.\n",
    "2. Nonlinear programming (NLP): NLP deals with optimizing a nonlinear objective function with nonlinear constraints. It’s often used in engineering and economics.\n",
    "3. Mixed-integer programming (MIP): MIP involves optimization problems where some variables are restricted to be integers while others can be continuous.\n",
    "4. Stochastic programming: Stochastic programming addresses optimization problems where some elements are uncertain and modeled as random variables. It's commonly applied in finance and supply chain management to optimize decisions under uncertainty.\n",
    "5. Dynamic optimization: Dynamic optimization focuses on optimizing decision variables over time, typically involving dynamically evolving systems. It is used in fields like process control, robotics, and economics to manage time-dependent processes."
   ]
  },
  {
   "cell_type": "markdown",
   "metadata": {},
   "source": [
    "## Installation\n",
    "pip install pyomo<br>\n",
    "1. GLPK (GNU Linear Programming Kit)- ```sudo apt-get install glpk-utils```\n",
    "2. CBC (Coin-or Branch and Cut)- ```conda install -c conda-forge coincbc```\n",
    "3. IPOPT (Interior Point OPTimizer)- ```conda install -c conda-forge ipopt```"
   ]
  },
  {
   "cell_type": "markdown",
   "metadata": {},
   "source": [
    "## Defining Variables"
   ]
  },
  {
   "cell_type": "markdown",
   "metadata": {},
   "source": [
    "1. Scalar variables<br>\n",
    "We first import the Var and create a variable x using Var(). This variable has no specified bounds, meaning it can take any real value unless constrained otherwise in the model.\n",
    "```\n",
    "from pyomo.environ import Var\n",
    "model.x = Var()\n",
    "```\n",
    "\n",
    "2. Adding bounds<br>\n",
    "You can restrict the values that a variable can take by specifying bounds. Bounds are defined as a tuple (lower_bound, upper_bound):\n",
    "```\n",
    "from pyomo.environ import Var\n",
    "model.x = Var(bounds=(0, None))\n",
    "```\n",
    "\n",
    "3. Specifying domains<br>\n",
    "Pyomo provides predefined domains that you can use to specify the type of values a variable can take, such as NonNegativeReals, Integers, or Binary: \n",
    "```\n",
    "from pyomo.environ import Var, NonNegativeReals\n",
    "model.x = Var(domain=NonNegativeReals)\n",
    "```\n",
    "\n",
    "4. Indexed variables\n",
    "When dealing with multiple variables that are similar in nature, such as variables representing different time periods or items, it's efficient to use indexed variables. Indexed variables are variables that are defined over a set.\n",
    "```\n",
    "from pyomo.environ import Var, Set, NonNegativeReals\n",
    "model.I = Set(initialize=[1, 2, 3])\n",
    "model.y = Var(model.I, domain=NonNegativeReals)\n",
    "```\n",
    "Suppose you're modeling the production quantities for three products. You can define:\n",
    "```\n",
    "model.Products = Set(initialize=['A', 'B', 'C'])\n",
    "model.production = Var(model.Products, domain=NonNegativeReals)\n",
    "```\n",
    "Now, model.production['A'], model.production['B'], and model.production['C'] represent the production quantities for products A, B, and C, respectively.\n",
    "\n",
    "### Parameterizing models\n",
    "Parameters are fixed values used in the model to represent known quantities or constants that do not change during the optimization process. \n",
    "```\n",
    "from pyomo.environ import Param\n",
    "model.p = Param(initialize=5)\n",
    "```\n",
    "The code above defines a parameter p in the Pyomo model using the Param class and initializes it with a fixed value of 5. The parameter p can now be used in the model to represent a constant value that does not change during the optimization process."
   ]
  },
  {
   "cell_type": "markdown",
   "metadata": {},
   "source": [
    "## 1. Linear optimization Solution"
   ]
  },
  {
   "cell_type": "code",
   "execution_count": 4,
   "metadata": {},
   "outputs": [
    {
     "name": "stdout",
     "output_type": "stream",
     "text": [
      "Status: ok\n",
      "Termination Condition: optimal\n",
      "Optimal x1: 25.0\n",
      "Optimal x2: 30.0\n",
      "Optimal Objective: 2500.0\n"
     ]
    }
   ],
   "source": [
    "import pyomo.environ as pyo\n",
    "\n",
    "# Create a model\n",
    "model = pyo.ConcreteModel()\n",
    "\n",
    "# Define variables\n",
    "model.x1 = pyo.Var(within=pyo.NonNegativeReals) # x1>=0\n",
    "model.x2 = pyo.Var(within=pyo.NonNegativeReals) # x2>=0\n",
    "\n",
    "# Define objective\n",
    "model.obj = pyo.Objective(expr=40*model.x1 + 50*model.x2, sense=pyo.maximize)\n",
    "\n",
    "# Define constraints\n",
    "# Machine A capacity constraint: 1x1 + 2x2 <= 100\n",
    "model.con1 = pyo.Constraint(expr=model.x1 + 2*model.x2 <= 100)\n",
    "# Machine B capacity constraint: 2x1 + 1x2 <= 80\n",
    "model.con2 = pyo.Constraint(expr=2*model.x1 + model.x2 <= 80)\n",
    "# Machine C capacity constraint: 3x2 <= 90\n",
    "model.con3 = pyo.Constraint(expr=3*model.x2 <= 90)\n",
    "\n",
    "# Select solver\n",
    "solver = pyo.SolverFactory('glpk')\n",
    "# Solve the problem\n",
    "result = solver.solve(model)\n",
    "\n",
    "# Display results\n",
    "print('Status:', result.solver.status)\n",
    "print('Termination Condition:', result.solver.termination_condition)\n",
    "print('Optimal x1:', pyo.value(model.x1))\n",
    "print('Optimal x2:', pyo.value(model.x2))\n",
    "print('Optimal Objective:', pyo.value(model.obj))"
   ]
  },
  {
   "cell_type": "markdown",
   "metadata": {},
   "source": [
    "## 2. Nonlinear optimization"
   ]
  },
  {
   "cell_type": "code",
   "execution_count": 1,
   "metadata": {},
   "outputs": [
    {
     "name": "stdout",
     "output_type": "stream",
     "text": [
      "Optimal x: 0.8944271937881092\n",
      "Optimal y: 1.7888543856950594\n",
      "Minimum Z: 0.05572808785166419\n"
     ]
    }
   ],
   "source": [
    "import pyomo.environ as pyo\n",
    "\n",
    "model = pyo.ConcreteModel()\n",
    "\n",
    "# Define variables with lower bounds\n",
    "model.x = pyo.Var(bounds=(0, None)) # x>=0\n",
    "model.y = pyo.Var(bounds=(0, None)) # y>=0\n",
    "\n",
    "# Objective function: minimize (x - 1)² + (y - 2)²\n",
    "model.obj = pyo.Objective(expr=(model.x - 1)**2 + (model.y - 2)**2, sense=pyo.minimize)\n",
    "\n",
    "# Constraint: x² + y² ≤ 4 (circle of radius 2)\n",
    "model.circle = pyo.Constraint(expr=model.x**2 + model.y**2 <= 4)\n",
    "\n",
    "solver = pyo.SolverFactory('ipopt')\n",
    "result = solver.solve(model)\n",
    "print('Optimal x:', pyo.value(model.x))\n",
    "print('Optimal y:', pyo.value(model.y))\n",
    "print('Minimum Z:', pyo.value(model.obj))"
   ]
  },
  {
   "cell_type": "markdown",
   "metadata": {},
   "source": [
    "## 3. Mixed-integer programming (MIP)"
   ]
  },
  {
   "cell_type": "code",
   "execution_count": 6,
   "metadata": {},
   "outputs": [
    {
     "name": "stdout",
     "output_type": "stream",
     "text": [
      "Warehouse A: Open=1.0, Transported=70.0\n",
      "Warehouse B: Open=1.0, Transported=80.0\n",
      "Warehouse C: Open=0.0, Transported=0.0\n",
      "Minimum Total Cost: 2870.0\n"
     ]
    }
   ],
   "source": [
    "import pyomo.environ as pyo\n",
    "\n",
    "# objective- A company must decide whether to open warehouses in locations A, B, and C. \n",
    "# The goal is to minimize the total cost, which includes fixed costs of opening warehouses \n",
    "# and transportation costs.\n",
    " \n",
    "locations = ['A', 'B', 'C']\n",
    "FixedCost = {'A': 1000, 'B': 1200, 'C': 1500} # fixed cost per warehouse location\n",
    "TransportCost = {'A': 5, 'B': 4, 'C': 6} # transportation cost per product as per warehouse\n",
    "Capacity = {'A': 100, 'B': 80, 'C': 90} # product capacity per warehouse\n",
    "Demand = 150 # minimum goods to transport\n",
    "\n",
    "model = pyo.ConcreteModel()\n",
    "\n",
    "# Binary variable: 1 if warehouse is open, 0 otherwise\n",
    "model.y = pyo.Var(locations, domain=pyo.Binary)\n",
    "\n",
    "# Continuous variable: amount of goods transported\n",
    "model.x = pyo.Var(locations, domain=pyo.NonNegativeReals)\n",
    "\n",
    "# objective\n",
    "model.cost = pyo.Objective(\n",
    "    expr=sum(FixedCost[i]*model.y[i] + TransportCost[i]*model.x[i] for i in locations),\n",
    "    sense=pyo.minimize\n",
    ")\n",
    "\n",
    "# Demand constraint\n",
    "model.demand = pyo.Constraint(expr=sum(model.x[i] for i in locations) >= Demand)\n",
    "\n",
    "# Capacity constraints\n",
    "def capacity_rule(model, i):\n",
    "    return model.x[i] <= Capacity[i] * model.y[i]\n",
    "model.capacity = pyo.Constraint(locations, rule=capacity_rule)\n",
    "\n",
    "solver = pyo.SolverFactory('cbc')\n",
    "result = solver.solve(model)\n",
    "for i in locations:\n",
    "    print(f\"Warehouse {i}: Open={pyo.value(model.y[i])}, Transported={pyo.value(model.x[i])}\")\n",
    "print('Minimum Total Cost:', pyo.value(model.cost))"
   ]
  },
  {
   "cell_type": "code",
   "execution_count": null,
   "metadata": {},
   "outputs": [],
   "source": []
  }
 ],
 "metadata": {
  "kernelspec": {
   "display_name": "base",
   "language": "python",
   "name": "python3"
  },
  "language_info": {
   "codemirror_mode": {
    "name": "ipython",
    "version": 3
   },
   "file_extension": ".py",
   "mimetype": "text/x-python",
   "name": "python",
   "nbconvert_exporter": "python",
   "pygments_lexer": "ipython3",
   "version": "3.10.15"
  }
 },
 "nbformat": 4,
 "nbformat_minor": 2
}
