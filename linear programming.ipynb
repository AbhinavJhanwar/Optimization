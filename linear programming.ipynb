{
 "cells": [
  {
   "cell_type": "markdown",
   "metadata": {},
   "source": [
    "## Problem Statement\n",
    "Say that a factory produces four different products, and that the daily produced amount of the first product is x₁, the amount produced of the second product is x₂, and so on. The goal is to determine the profit-maximizing daily production amount for each product, bearing in mind the following conditions:\n",
    "\n",
    "The profit per unit of product is $20, $12, $40, and $25 for the first, second, third, and fourth product, respectively.\n",
    "\n",
    "Due to manpower constraints, the total number of units produced per day can't exceed fifty.\n",
    "\n",
    "For each unit of the first product, three units of the raw material A are consumed. Each unit of the second product requires two units of the raw material A and one unit of the raw material B. Each unit of the third product needs one unit of A and two units of B. Finally, each unit of the fourth product requires three units of B.\n",
    "\n",
    "Due to the transportation and storage constraints, the factory can consume up to one hundred units of the raw material A and ninety units of B per day.\n"
   ]
  },
  {
   "cell_type": "markdown",
   "metadata": {},
   "source": [
    "## Solution\n",
    "**Decision Variables** = a, b, c, d<br>\n",
    "**Objective Function**- Maximize Profit = 20a + 12b + 40c + 25d<br>\n",
    "**Constraints**-<br>\n",
    "1. sum of all products/manpower = a+b+c+d <= 50\n",
    "2. raw material A = 3a+2b+c <= 100\n",
    "3. raw material B = b+2c+3d <= 90\n",
    "4. a, b, c, d >=0\n"
   ]
  },
  {
   "cell_type": "markdown",
   "metadata": {},
   "source": [
    "Installation - <br>\n",
    "1. pip install scipy pulp\n",
    "2. on linux- run command \"pulptest\" in cmd\n",
    "3. on windows download- https://www.gnu.org/software/glpk/#downloading\n",
    "4. install glpk- conda install -c conda-forge glpk or sudo apt-get install glpk-utils\n",
    "5. check version- glpsol --version"
   ]
  },
  {
   "cell_type": "markdown",
   "metadata": {},
   "source": [
    "## Using Scipy\n",
    "* SciPy can’t work with integer decision variables.\n",
    "* SciPy can’t run various external solvers.\n",
    "* SciPy doesn’t allow you to define maximization problems directly. You must convert them to minimization problems.\n",
    "* SciPy doesn’t allow you to define constraints using the greater-than-or-equal-to sign directly. You must use the less-than-or-equal-to instead."
   ]
  },
  {
   "cell_type": "code",
   "execution_count": 8,
   "metadata": {},
   "outputs": [],
   "source": [
    "from scipy.optimize import linprog\n",
    "# linprog() solves only minimization (not maximization) problems\n",
    "# doesn't allow inequality constraints with the greater than or equal to sign (≥), \n",
    "# hence modify problem accordingly convert maximize to minimize and greater than equal to less than equal\n",
    "\n",
    "# maximize doesn't work has changing the sign to make minimize problem\n",
    "obj = [-20, -12, -40, -25]\n",
    "#       ─┬   ─┬\n",
    "#        │    └┤ Coefficient for b\n",
    "#        └─────┤ Coefficient for a\n",
    "\n",
    "# inequality constraint left side\n",
    "lhs_ineq = [[1, 1, 1, 1],\n",
    "            [3, 2, 1, 0],\n",
    "            [0, 1, 2, 3]]  \n",
    "\n",
    "# inequality constraint right side\n",
    "rhs_ineq = [50,  \n",
    "            100,  \n",
    "             90]  \n",
    "\n",
    "# equality constraint left side\n",
    "# lhs_eq = [[-1, 5]]  \n",
    "# equality constraint right side\n",
    "# rhs_eq = [15]       \n",
    "\n",
    "# x & y constraints\n",
    "bnd = [(0, float(\"inf\")),  # Bounds of a\n",
    "       (0, float(\"inf\")),  # Bounds of b\n",
    "       (0, float(\"inf\")),\n",
    "       (0, float(\"inf\"))  \n",
    "       ]  "
   ]
  },
  {
   "cell_type": "code",
   "execution_count": 9,
   "metadata": {},
   "outputs": [
    {
     "data": {
      "text/plain": [
       "        message: Optimization terminated successfully. (HiGHS Status 7: Optimal)\n",
       "        success: True\n",
       "         status: 0\n",
       "            fun: -1900.0\n",
       "              x: [ 5.000e+00  0.000e+00  4.500e+01  0.000e+00]\n",
       "            nit: 4\n",
       "          lower:  residual: [ 5.000e+00  0.000e+00  4.500e+01  0.000e+00]\n",
       "                 marginals: [ 0.000e+00  1.800e+01  0.000e+00  2.500e+01]\n",
       "          upper:  residual: [       inf        inf        inf        inf]\n",
       "                 marginals: [ 0.000e+00  0.000e+00  0.000e+00  0.000e+00]\n",
       "          eqlin:  residual: []\n",
       "                 marginals: []\n",
       "        ineqlin:  residual: [ 0.000e+00  4.000e+01  0.000e+00]\n",
       "                 marginals: [-2.000e+01 -0.000e+00 -1.000e+01]\n",
       " mip_node_count: 0\n",
       " mip_dual_bound: 0.0\n",
       "        mip_gap: 0.0"
      ]
     },
     "execution_count": 9,
     "metadata": {},
     "output_type": "execute_result"
    }
   ],
   "source": [
    "opt = linprog(c=obj, \n",
    "              A_ub=lhs_ineq, \n",
    "              b_ub=rhs_ineq,\n",
    "            #   A_eq=lhs_eq, \n",
    "            #   b_eq=rhs_eq, \n",
    "              bounds=bnd,\n",
    "              method=\"highs\")\n",
    "opt"
   ]
  },
  {
   "cell_type": "markdown",
   "metadata": {},
   "source": [
    "fun- optimum value of objective<br>\n",
    "nit- number of iterations need to finish the calculation<br>\n",
    "x- optimum values of decision variables\n",
    "\n",
    "The result tells you that the maximal profit is 1900 and corresponds to a = 5 and c = 45. It's not profitable to produce the second and fourth products under the given conditions.\n",
    "Conclusion-\n",
    "1. The third product brings the largest profit per unit, so the factory will produce it the most.\n",
    "2. The first ineqlin: residual is 0, which means that the values of the left and right sides of the manpower (first) constraint are the same. The factory produces 50 units per day, and that's its full capacity.\n",
    "3. The second ineqlin: residual is 40 because the factory consumes 60 units of raw material A (15 units for the first product plus 45 for the third) out of a potential 100 units.\n",
    "4. The third ineqlin: residual is 0, which means that the factory consumes all 90 units of the raw material B. This entire amount is consumed for the third product. That's why the factory can't produce the second or fourth product at all and can't produce more than 45 units of the third product. It lacks the raw material B."
   ]
  },
  {
   "cell_type": "markdown",
   "metadata": {},
   "source": [
    "# Using PuLP\n",
    "You can also use PuLP to solve mixed-integer linear programming problems. To define an integer or binary variable, just pass cat=\"Integer\" or cat=\"Binary\" to LpVariable. "
   ]
  },
  {
   "cell_type": "code",
   "execution_count": 10,
   "metadata": {},
   "outputs": [],
   "source": [
    "from pulp import LpMaximize, LpProblem, LpStatus, lpSum, LpVariable"
   ]
  },
  {
   "cell_type": "code",
   "execution_count": 19,
   "metadata": {},
   "outputs": [
    {
     "data": {
      "text/plain": [
       "resource-allocation:\n",
       "MAXIMIZE\n",
       "20*a + 12*b + 40*c + 25*d + 0\n",
       "SUBJECT TO\n",
       "man_power: a + b + c + d <= 50\n",
       "\n",
       "raw_material_A: 3 a + 2 b + c <= 100\n",
       "\n",
       "raw_material_B: b + 2 c + 3 d <= 90\n",
       "\n",
       "VARIABLES\n",
       "a Continuous\n",
       "b Continuous\n",
       "c Continuous\n",
       "d Continuous"
      ]
     },
     "execution_count": 19,
     "metadata": {},
     "output_type": "execute_result"
    }
   ],
   "source": [
    "# Create the model\n",
    "model = LpProblem(name=\"resource-allocation\", sense=LpMaximize)\n",
    "# use the sense parameter to choose whether to perform minimization \n",
    "# (LpMinimize or 1, which is the default) or maximization (LpMaximize or -1)\n",
    "\n",
    "# Initialize the decision variables\n",
    "a = LpVariable(name=\"a\", lowBound=0)\n",
    "b = LpVariable(name=\"b\", lowBound=0)\n",
    "c = LpVariable(name=\"c\", lowBound=0)\n",
    "d = LpVariable(name=\"d\", lowBound=0)\n",
    "# or use x = {i: LpVariable(name=f\"x{i}\", lowBound=0) for i in range(1, 5)} and use x[1], x[2] and so on as variable names\n",
    "\n",
    "# Add the constraints to the model\n",
    "model += (a + b + c + d <= 50, \"man power\")\n",
    "model += (3*a + 2*b + 1*c <= 100, \"raw material A\")\n",
    "model += (b + 2*c + 3*d <= 90, \"raw material B\")\n",
    "\n",
    "# Add the objective function to the model\n",
    "model += 20*a + 12*b + 40*c + 25*d # or use lpSum([20*a, 12*b, 40*c, 25*d])\n",
    "model\n"
   ]
  },
  {
   "cell_type": "code",
   "execution_count": 20,
   "metadata": {},
   "outputs": [
    {
     "name": "stdout",
     "output_type": "stream",
     "text": [
      "Welcome to the CBC MILP Solver \n",
      "Version: 2.10.3 \n",
      "Build Date: Dec 15 2019 \n",
      "\n",
      "command line - /opt/conda/lib/python3.10/site-packages/pulp/solverdir/cbc/linux/64/cbc /var/tmp/7c1d6bf548434852ad90f82a3a31f153-pulp.mps -max -timeMode elapsed -branch -printingOptions all -solution /var/tmp/7c1d6bf548434852ad90f82a3a31f153-pulp.sol (default strategy 1)\n",
      "At line 2 NAME          MODEL\n",
      "At line 3 ROWS\n",
      "At line 8 COLUMNS\n",
      "At line 23 RHS\n",
      "At line 27 BOUNDS\n",
      "At line 28 ENDATA\n",
      "Problem MODEL has 3 rows, 4 columns and 10 elements\n",
      "Coin0008I MODEL read with 0 errors\n",
      "Option for timeMode changed from cpu to elapsed\n",
      "Presolve 3 (0) rows, 4 (0) columns and 10 (0) elements\n",
      "0  Obj -0 Dual inf 97 (4)\n",
      "0  Obj -0 Dual inf 97 (4)\n",
      "2  Obj 1900\n",
      "Optimal - objective value 1900\n",
      "Optimal objective 1900 - 2 iterations time 0.002\n",
      "Option for printingOptions changed from normal to all\n",
      "Total time (CPU seconds):       0.00   (Wallclock seconds):       0.00\n",
      "\n",
      "status: 1, Optimal\n",
      "objective: 1900.0\n",
      "a: 5.0\n",
      "b: 0.0\n",
      "c: 45.0\n",
      "d: 0.0\n",
      "man_power: 0.0\n",
      "raw_material_A: -40.0\n",
      "raw_material_B: 0.0\n"
     ]
    }
   ],
   "source": [
    "# Solve the problem\n",
    "status = model.solve() # argument for different solver- solver=GLPK(msg=False) but also use- from pulp import GLPK\n",
    "\n",
    "print(f\"status: {model.status}, {LpStatus[model.status]}\")\n",
    "\n",
    "print(f\"objective: {model.objective.value()}\")\n",
    "\n",
    "for var in model.variables():\n",
    "    print(f\"{var.name}: {var.value()}\")\n",
    "\n",
    "for name, constraint in model.constraints.items():\n",
    "    print(f\"{name}: {constraint.value()}\")\n"
   ]
  },
  {
   "cell_type": "markdown",
   "metadata": {},
   "source": [
    "Let’s make this problem more complicated and interesting. Say the factory can’t produce the first and third products in parallel due to a machinery issue. What’s the most profitable solution in this case?\n",
    "\n",
    "Now you have another logical constraint: if a is positive, then c must be zero and vice versa. This is where binary decision variables are very useful. You’ll use two binary decision variables, y₁ and y₃, that’ll denote if the first or third products are generated at all:"
   ]
  },
  {
   "cell_type": "code",
   "execution_count": 25,
   "metadata": {},
   "outputs": [
    {
     "name": "stdout",
     "output_type": "stream",
     "text": [
      "Welcome to the CBC MILP Solver \n",
      "Version: 2.10.3 \n",
      "Build Date: Dec 15 2019 \n",
      "\n",
      "command line - /opt/conda/lib/python3.10/site-packages/pulp/solverdir/cbc/linux/64/cbc /var/tmp/015c4c8564e0459496e29594f5f95594-pulp.mps -max -timeMode elapsed -branch -printingOptions all -solution /var/tmp/015c4c8564e0459496e29594f5f95594-pulp.sol (default strategy 1)\n",
      "At line 2 NAME          MODEL\n",
      "At line 3 ROWS\n",
      "At line 11 COLUMNS\n",
      "At line 36 RHS\n",
      "At line 43 BOUNDS\n",
      "At line 46 ENDATA\n",
      "Problem MODEL has 6 rows, 6 columns and 16 elements\n",
      "Coin0008I MODEL read with 0 errors\n",
      "Option for timeMode changed from cpu to elapsed\n",
      "Continuous objective value is 1900 - 0.00 seconds\n",
      "Cgl0003I 0 fixed, 0 tightened bounds, 1 strengthened rows, 0 substitutions\n",
      "Cgl0004I processed model has 6 rows, 6 columns (2 integer (2 of which binary)) and 16 elements\n",
      "Cbc0038I Initial state - 0 integers unsatisfied sum - 4.44089e-16\n",
      "Cbc0038I Solution found of -1800\n",
      "Cbc0038I Relaxing continuous gives -1800\n",
      "Cbc0038I Before mini branch and bound, 2 integers at bound fixed and 4 continuous\n",
      "Cbc0038I Mini branch and bound did not improve solution (0.00 seconds)\n",
      "Cbc0038I After 0.00 seconds - Feasibility pump exiting with objective of -1800 - took 0.00 seconds\n",
      "Cbc0012I Integer solution of -1800 found by feasibility pump after 0 iterations and 0 nodes (0.00 seconds)\n",
      "Cbc0001I Search completed - best objective -1800, took 0 iterations and 0 nodes (0.00 seconds)\n",
      "Cbc0035I Maximum depth 0, 0 variables fixed on reduced cost\n",
      "Cuts at root node changed objective from -1800 to -1800\n",
      "Probing was tried 0 times and created 0 cuts of which 0 were active after adding rounds of cuts (0.000 seconds)\n",
      "Gomory was tried 0 times and created 0 cuts of which 0 were active after adding rounds of cuts (0.000 seconds)\n",
      "Knapsack was tried 0 times and created 0 cuts of which 0 were active after adding rounds of cuts (0.000 seconds)\n",
      "Clique was tried 0 times and created 0 cuts of which 0 were active after adding rounds of cuts (0.000 seconds)\n",
      "MixedIntegerRounding2 was tried 0 times and created 0 cuts of which 0 were active after adding rounds of cuts (0.000 seconds)\n",
      "FlowCover was tried 0 times and created 0 cuts of which 0 were active after adding rounds of cuts (0.000 seconds)\n",
      "TwoMirCuts was tried 0 times and created 0 cuts of which 0 were active after adding rounds of cuts (0.000 seconds)\n",
      "ZeroHalf was tried 0 times and created 0 cuts of which 0 were active after adding rounds of cuts (0.000 seconds)\n",
      "\n",
      "Result - Optimal solution found\n",
      "\n",
      "Objective value:                1800.00000000\n",
      "Enumerated nodes:               0\n",
      "Total iterations:               0\n",
      "Time (CPU seconds):             0.00\n",
      "Time (Wallclock seconds):       0.00\n",
      "\n",
      "Option for printingOptions changed from normal to all\n",
      "Total time (CPU seconds):       0.00   (Wallclock seconds):       0.00\n",
      "\n",
      "status: 1, Optimal\n",
      "objective: 1800.0\n",
      "x1: 0.0\n",
      "x2: 0.0\n",
      "x3: 45.0\n",
      "x4: 0.0\n",
      "y1: 0.0\n",
      "y3: 1.0\n",
      "manpower: -5.0\n",
      "material_a: -55.0\n",
      "material_b: 0.0\n",
      "a_constraint: 0.0\n",
      "c_constraint: -55.0\n",
      "y_constraint: 0.0\n"
     ]
    }
   ],
   "source": [
    "model = LpProblem(name=\"resource-allocation\", sense=LpMaximize)\n",
    "\n",
    "# Define the decision variables\n",
    "x = {i: LpVariable(name=f\"x{i}\", lowBound=0) for i in range(1, 5)}\n",
    "y = {i: LpVariable(name=f\"y{i}\", cat=\"Binary\") for i in (1, 3)}\n",
    "\n",
    "# Add constraints\n",
    "model += (lpSum(x.values()) <= 50, \"manpower\")\n",
    "model += (3*x[1] + 2*x[2] + x[3] <= 100, \"material_a\")\n",
    "model += (x[2] + 2*x[3] + 3*x[4] <= 90, \"material_b\")\n",
    "\n",
    "M = 100 # defines an arbitrarily large number M. The value 100 is large enough in this case because you can’t have more than 100 units per day.\n",
    "model += (x[1] <= y[1]*M, \"a_constraint\") # if y[1] is zero, then x[1] must be zero, if y[1] is 1 then x[1] can have maximum value of M.\n",
    "model += (x[3] <= y[3]*M, \"c_constraint\") #  if y[3] is zero, then x[3] must be zero, if y[3] is 1 then x[3] can have maximum value of M.\n",
    "model += (y[1] + y[3] <= 1, \"y_constraint\") # either y[1] or y[3] is zero (or both are), so either x[1] or x[3] must be zero as well.\n",
    "\n",
    "# Set objective\n",
    "model += 20*x[1] + 12*x[2] + 40*x[3] + 25*x[4]\n",
    "\n",
    "# Solve the optimization problem\n",
    "status = model.solve()\n",
    "\n",
    "print(f\"status: {model.status}, {LpStatus[model.status]}\")\n",
    "print(f\"objective: {model.objective.value()}\")\n",
    "\n",
    "for var in model.variables():\n",
    "    print(f\"{var.name}: {var.value()}\")\n",
    "\n",
    "for name, constraint in model.constraints.items():\n",
    "    print(f\"{name}: {constraint.value()}\")"
   ]
  }
 ],
 "metadata": {
  "kernelspec": {
   "display_name": "base",
   "language": "python",
   "name": "python3"
  },
  "language_info": {
   "codemirror_mode": {
    "name": "ipython",
    "version": 3
   },
   "file_extension": ".py",
   "mimetype": "text/x-python",
   "name": "python",
   "nbconvert_exporter": "python",
   "pygments_lexer": "ipython3",
   "version": "3.10.15"
  }
 },
 "nbformat": 4,
 "nbformat_minor": 2
}
